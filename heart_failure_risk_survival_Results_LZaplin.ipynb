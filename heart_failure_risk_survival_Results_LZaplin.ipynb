{
 "cells": [
  {
   "cell_type": "code",
   "execution_count": 1,
   "id": "97643794",
   "metadata": {},
   "outputs": [],
   "source": [
    "import pandas as pd\n",
    "import numpy as np\n",
    "from imblearn.combine import SMOTEENN\n",
    "from imblearn.over_sampling import SMOTE\n",
    "from imblearn.under_sampling import EditedNearestNeighbours\n",
    "from imblearn.pipeline import make_pipeline, Pipeline\n",
    "from scipy import stats\n",
    "from scipy.stats import ttest_1samp, wilcoxon\n",
    "from statistics import mean, stdev\n",
    "import matplotlib.pyplot as plt\n",
    "from matplotlib.pyplot import figure\n",
    "import seaborn as sb\n",
    "from sklearn.compose import ColumnTransformer\n",
    "from sklearn.ensemble import RandomForestClassifier,  ExtraTreesClassifier\n",
    "from sklearn.ensemble import AdaBoostClassifier, BaggingClassifier\n",
    "from sklearn.feature_selection import RFE, RFECV, SelectFromModel, SelectKBest, f_classif \n",
    "from sklearn.inspection import permutation_importance\n",
    "from sklearn.linear_model import LogisticRegression, Lasso\n",
    "from sklearn.metrics import confusion_matrix, classification_report \n",
    "from sklearn.metrics import matthews_corrcoef, f1_score, accuracy_score, recall_score, make_scorer\n",
    "from sklearn.metrics import roc_auc_score, roc_curve, precision_score, precision_recall_curve, balanced_accuracy_score\n",
    "from sklearn.model_selection import train_test_split, cross_val_score, GridSearchCV, RandomizedSearchCV\n",
    "from sklearn.model_selection import StratifiedKFold, cross_validate, RepeatedStratifiedKFold\n",
    "#from sklearn.naive_bayes import GaussianNB\n",
    "from sklearn.pipeline import FeatureUnion\n",
    "from sklearn.preprocessing import RobustScaler, OneHotEncoder\n",
    "from sklearn.svm import SVC\n",
    "from sklearn.tree import DecisionTreeClassifier\n",
    "from time import time\n",
    "import tracemalloc\n",
    "#!pip install skrebate\n",
    "#from skrebate import ReliefF\n",
    "#!pip install xgboost\n",
    "#from xgboost import XGBClassifier"
   ]
  },
  {
   "cell_type": "markdown",
   "id": "63b023fa",
   "metadata": {},
   "source": [
    "### _Data Loading_"
   ]
  },
  {
   "cell_type": "code",
   "execution_count": 2,
   "id": "696be6ca",
   "metadata": {},
   "outputs": [
    {
     "name": "stdout",
     "output_type": "stream",
     "text": [
      "<class 'pandas.core.frame.DataFrame'>\n",
      "RangeIndex: 299 entries, 0 to 298\n",
      "Data columns (total 12 columns):\n",
      " #   Column                    Non-Null Count  Dtype  \n",
      "---  ------                    --------------  -----  \n",
      " 0   age                       299 non-null    float64\n",
      " 1   anaemia                   299 non-null    int64  \n",
      " 2   creatinine_phosphokinase  299 non-null    int64  \n",
      " 3   diabetes                  299 non-null    int64  \n",
      " 4   ejection_fraction         299 non-null    int64  \n",
      " 5   high_blood_pressure       299 non-null    int64  \n",
      " 6   platelets                 299 non-null    float64\n",
      " 7   serum_creatinine          299 non-null    float64\n",
      " 8   serum_sodium              299 non-null    int64  \n",
      " 9   sex                       299 non-null    int64  \n",
      " 10  smoking                   299 non-null    int64  \n",
      " 11  DEATH_EVENT               299 non-null    int64  \n",
      "dtypes: float64(3), int64(9)\n",
      "memory usage: 28.2 KB\n",
      "<class 'pandas.core.frame.DataFrame'>\n",
      "RangeIndex: 299 entries, 0 to 298\n",
      "Data columns (total 12 columns):\n",
      " #   Column                    Non-Null Count  Dtype  \n",
      "---  ------                    --------------  -----  \n",
      " 0   age                       299 non-null    int64  \n",
      " 1   anaemia                   299 non-null    int64  \n",
      " 2   creatinine_phosphokinase  299 non-null    int64  \n",
      " 3   diabetes                  299 non-null    int64  \n",
      " 4   ejection_fraction         299 non-null    int64  \n",
      " 5   high_blood_pressure       299 non-null    int64  \n",
      " 6   platelets                 299 non-null    float64\n",
      " 7   serum_creatinine          299 non-null    float64\n",
      " 8   serum_sodium              299 non-null    int64  \n",
      " 9   sex                       299 non-null    int64  \n",
      " 10  smoking                   299 non-null    int64  \n",
      " 11  DEATH_EVENT               299 non-null    int64  \n",
      "dtypes: float64(2), int64(10)\n",
      "memory usage: 28.2 KB\n"
     ]
    },
    {
     "data": {
      "text/html": [
       "<div>\n",
       "<style scoped>\n",
       "    .dataframe tbody tr th:only-of-type {\n",
       "        vertical-align: middle;\n",
       "    }\n",
       "\n",
       "    .dataframe tbody tr th {\n",
       "        vertical-align: top;\n",
       "    }\n",
       "\n",
       "    .dataframe thead th {\n",
       "        text-align: right;\n",
       "    }\n",
       "</style>\n",
       "<table border=\"1\" class=\"dataframe\">\n",
       "  <thead>\n",
       "    <tr style=\"text-align: right;\">\n",
       "      <th></th>\n",
       "      <th>age</th>\n",
       "      <th>anaemia</th>\n",
       "      <th>creatinine_phosphokinase</th>\n",
       "      <th>diabetes</th>\n",
       "      <th>ejection_fraction</th>\n",
       "      <th>high_blood_pressure</th>\n",
       "      <th>platelets</th>\n",
       "      <th>serum_creatinine</th>\n",
       "      <th>serum_sodium</th>\n",
       "      <th>sex</th>\n",
       "      <th>smoking</th>\n",
       "      <th>DEATH_EVENT</th>\n",
       "    </tr>\n",
       "  </thead>\n",
       "  <tbody>\n",
       "    <tr>\n",
       "      <th>0</th>\n",
       "      <td>75</td>\n",
       "      <td>0</td>\n",
       "      <td>582</td>\n",
       "      <td>0</td>\n",
       "      <td>20</td>\n",
       "      <td>1</td>\n",
       "      <td>265.00000</td>\n",
       "      <td>1.9</td>\n",
       "      <td>130</td>\n",
       "      <td>1</td>\n",
       "      <td>0</td>\n",
       "      <td>1</td>\n",
       "    </tr>\n",
       "    <tr>\n",
       "      <th>1</th>\n",
       "      <td>55</td>\n",
       "      <td>0</td>\n",
       "      <td>7861</td>\n",
       "      <td>0</td>\n",
       "      <td>38</td>\n",
       "      <td>0</td>\n",
       "      <td>263.35803</td>\n",
       "      <td>1.1</td>\n",
       "      <td>136</td>\n",
       "      <td>1</td>\n",
       "      <td>0</td>\n",
       "      <td>1</td>\n",
       "    </tr>\n",
       "    <tr>\n",
       "      <th>2</th>\n",
       "      <td>65</td>\n",
       "      <td>0</td>\n",
       "      <td>146</td>\n",
       "      <td>0</td>\n",
       "      <td>20</td>\n",
       "      <td>0</td>\n",
       "      <td>162.00000</td>\n",
       "      <td>1.3</td>\n",
       "      <td>129</td>\n",
       "      <td>1</td>\n",
       "      <td>1</td>\n",
       "      <td>1</td>\n",
       "    </tr>\n",
       "    <tr>\n",
       "      <th>3</th>\n",
       "      <td>50</td>\n",
       "      <td>1</td>\n",
       "      <td>111</td>\n",
       "      <td>0</td>\n",
       "      <td>20</td>\n",
       "      <td>0</td>\n",
       "      <td>210.00000</td>\n",
       "      <td>1.9</td>\n",
       "      <td>137</td>\n",
       "      <td>1</td>\n",
       "      <td>0</td>\n",
       "      <td>1</td>\n",
       "    </tr>\n",
       "    <tr>\n",
       "      <th>4</th>\n",
       "      <td>65</td>\n",
       "      <td>1</td>\n",
       "      <td>160</td>\n",
       "      <td>1</td>\n",
       "      <td>20</td>\n",
       "      <td>0</td>\n",
       "      <td>327.00000</td>\n",
       "      <td>2.7</td>\n",
       "      <td>116</td>\n",
       "      <td>0</td>\n",
       "      <td>0</td>\n",
       "      <td>1</td>\n",
       "    </tr>\n",
       "    <tr>\n",
       "      <th>5</th>\n",
       "      <td>90</td>\n",
       "      <td>1</td>\n",
       "      <td>47</td>\n",
       "      <td>0</td>\n",
       "      <td>40</td>\n",
       "      <td>1</td>\n",
       "      <td>204.00000</td>\n",
       "      <td>2.1</td>\n",
       "      <td>132</td>\n",
       "      <td>1</td>\n",
       "      <td>1</td>\n",
       "      <td>1</td>\n",
       "    </tr>\n",
       "    <tr>\n",
       "      <th>6</th>\n",
       "      <td>75</td>\n",
       "      <td>1</td>\n",
       "      <td>246</td>\n",
       "      <td>0</td>\n",
       "      <td>15</td>\n",
       "      <td>0</td>\n",
       "      <td>127.00000</td>\n",
       "      <td>1.2</td>\n",
       "      <td>137</td>\n",
       "      <td>1</td>\n",
       "      <td>0</td>\n",
       "      <td>1</td>\n",
       "    </tr>\n",
       "    <tr>\n",
       "      <th>7</th>\n",
       "      <td>60</td>\n",
       "      <td>1</td>\n",
       "      <td>315</td>\n",
       "      <td>1</td>\n",
       "      <td>60</td>\n",
       "      <td>0</td>\n",
       "      <td>454.00000</td>\n",
       "      <td>1.1</td>\n",
       "      <td>131</td>\n",
       "      <td>1</td>\n",
       "      <td>1</td>\n",
       "      <td>1</td>\n",
       "    </tr>\n",
       "    <tr>\n",
       "      <th>8</th>\n",
       "      <td>65</td>\n",
       "      <td>0</td>\n",
       "      <td>157</td>\n",
       "      <td>0</td>\n",
       "      <td>65</td>\n",
       "      <td>0</td>\n",
       "      <td>263.35803</td>\n",
       "      <td>1.5</td>\n",
       "      <td>138</td>\n",
       "      <td>0</td>\n",
       "      <td>0</td>\n",
       "      <td>1</td>\n",
       "    </tr>\n",
       "    <tr>\n",
       "      <th>9</th>\n",
       "      <td>80</td>\n",
       "      <td>1</td>\n",
       "      <td>123</td>\n",
       "      <td>0</td>\n",
       "      <td>35</td>\n",
       "      <td>1</td>\n",
       "      <td>388.00000</td>\n",
       "      <td>9.4</td>\n",
       "      <td>133</td>\n",
       "      <td>1</td>\n",
       "      <td>1</td>\n",
       "      <td>1</td>\n",
       "    </tr>\n",
       "  </tbody>\n",
       "</table>\n",
       "</div>"
      ],
      "text/plain": [
       "   age  anaemia  creatinine_phosphokinase  diabetes  ejection_fraction  \\\n",
       "0   75        0                       582         0                 20   \n",
       "1   55        0                      7861         0                 38   \n",
       "2   65        0                       146         0                 20   \n",
       "3   50        1                       111         0                 20   \n",
       "4   65        1                       160         1                 20   \n",
       "5   90        1                        47         0                 40   \n",
       "6   75        1                       246         0                 15   \n",
       "7   60        1                       315         1                 60   \n",
       "8   65        0                       157         0                 65   \n",
       "9   80        1                       123         0                 35   \n",
       "\n",
       "   high_blood_pressure  platelets  serum_creatinine  serum_sodium  sex  \\\n",
       "0                    1  265.00000               1.9           130    1   \n",
       "1                    0  263.35803               1.1           136    1   \n",
       "2                    0  162.00000               1.3           129    1   \n",
       "3                    0  210.00000               1.9           137    1   \n",
       "4                    0  327.00000               2.7           116    0   \n",
       "5                    1  204.00000               2.1           132    1   \n",
       "6                    0  127.00000               1.2           137    1   \n",
       "7                    0  454.00000               1.1           131    1   \n",
       "8                    0  263.35803               1.5           138    0   \n",
       "9                    1  388.00000               9.4           133    1   \n",
       "\n",
       "   smoking  DEATH_EVENT  \n",
       "0        0            1  \n",
       "1        0            1  \n",
       "2        1            1  \n",
       "3        0            1  \n",
       "4        0            1  \n",
       "5        1            1  \n",
       "6        0            1  \n",
       "7        1            1  \n",
       "8        0            1  \n",
       "9        1            1  "
      ]
     },
     "execution_count": 2,
     "metadata": {},
     "output_type": "execute_result"
    }
   ],
   "source": [
    "# Data loading\n",
    "hf=pd.read_csv('C:/Users/14169/OneDrive/Documents/CIND 820/heart_failure_clinical_records_dataset.csv')\n",
    "hf=hf.drop(\"time\",axis=1)\n",
    "hf.info()\n",
    "\n",
    "# Map variables\n",
    "hf[\"age\"]=hf[\"age\"].astype(\"int64\")\n",
    "hf[\"platelets\"]=hf[\"platelets\"].map(lambda x:x/1000.00)\n",
    "hf.info()\n",
    "hf.head(10)"
   ]
  },
  {
   "cell_type": "markdown",
   "id": "d3212f90",
   "metadata": {},
   "source": [
    "### _Data Feature Engineering_"
   ]
  },
  {
   "cell_type": "markdown",
   "id": "33e054c7",
   "metadata": {},
   "source": [
    "#### Standardization and Class Balancing"
   ]
  },
  {
   "cell_type": "code",
   "execution_count": 3,
   "id": "361bf6c7",
   "metadata": {},
   "outputs": [],
   "source": [
    "# Preprocessing mixed data types using standard scaler for numeric and passthrough for other variables\n",
    "numerical_features = ['creatinine_phosphokinase','ejection_fraction','platelets','serum_creatinine',\n",
    "                       'serum_sodium']\n",
    "passthrough_features = ['age','anaemia','high_blood_pressure','diabetes','sex','smoking']\n",
    "\n",
    "# Define the data preparation for the columns\n",
    "preprocessor = ColumnTransformer(\n",
    "    transformers=[(\"num\", RobustScaler(), numerical_features),\n",
    "                  (\"pass\", 'passthrough', passthrough_features)])\n",
    "\n",
    "# Model resampling to correct class imbalance\n",
    "smote_enn = SMOTEENN(sampling_strategy='auto', enn=(EditedNearestNeighbours(kind_sel='mode')), random_state=0)\n",
    "#smote = SMOTE(sampling_strategy='minority', random_state=0)"
   ]
  },
  {
   "cell_type": "markdown",
   "id": "b5b1e032",
   "metadata": {},
   "source": [
    "### _Data Splitting_"
   ]
  },
  {
   "cell_type": "code",
   "execution_count": 4,
   "id": "df8d5c87",
   "metadata": {},
   "outputs": [
    {
     "name": "stdout",
     "output_type": "stream",
     "text": [
      "Original Training Class Distribution\n",
      "\n",
      "0    162\n",
      "1     77\n",
      "Name: DEATH_EVENT, dtype: int64\n",
      "\n",
      "Resampled Class Distribution\n",
      "0    162\n",
      "1    152\n",
      "Name: DEATH_EVENT, dtype: int64\n"
     ]
    }
   ],
   "source": [
    "# Split the data into features (X) and target (y)\n",
    "# DEATH_EVENT is target variable\n",
    "X=hf.drop(\"DEATH_EVENT\",axis=1)\n",
    "y=hf[\"DEATH_EVENT\"]\n",
    "\n",
    "# Split the data into training and testing sets with stratification\n",
    "X_train, X_test, y_train, y_test = train_test_split(X, y, test_size=0.2, stratify=y, random_state=0)\n",
    "\n",
    "X_trans = preprocessor.fit_transform(X_train)\n",
    "X_resampled, y_resampled = smote_enn.fit_resample(X_trans, y_train)\n",
    "\n",
    "print('Original Training Class Distribution\\n')\n",
    "print(y_train.value_counts())\n",
    "print('\\nResampled Class Distribution')\n",
    "print(y_resampled.value_counts())"
   ]
  },
  {
   "cell_type": "markdown",
   "id": "50b0d6e4",
   "metadata": {},
   "source": [
    "### _Hyperparameter Tuning_"
   ]
  },
  {
   "cell_type": "markdown",
   "id": "1f2b36a1",
   "metadata": {},
   "source": [
    "#### Tree-based Classifier Hyperparameter Tuning"
   ]
  },
  {
   "cell_type": "code",
   "execution_count": 35,
   "id": "3bb1aa0b",
   "metadata": {},
   "outputs": [
    {
     "name": "stdout",
     "output_type": "stream",
     "text": [
      "Best Hyperparameters: {'class_weight': 'balanced', 'criterion': 'gini', 'max_depth': 30, 'max_features': 'sqrt', 'max_leaf_nodes': 100, 'min_samples_split': 5, 'n_estimators': 500}\n",
      "Best Cross_validated ROC AUC: 0.95\n",
      "ExtraTreesClassifier(class_weight='balanced', max_depth=30, max_features='sqrt',\n",
      "                     max_leaf_nodes=100, min_samples_split=5, n_estimators=500)\n"
     ]
    }
   ],
   "source": [
    "# Define the hyperparameter grid to search\n",
    "param_dist = {\n",
    "    'n_estimators': [500, 1000],\n",
    "    'max_depth': [10, 30], \n",
    "    'min_samples_split': [5, 10],                         \n",
    "    'max_features': ['sqrt', 'log2'],   \n",
    "    'max_leaf_nodes': [ 50, 100],\n",
    "    'class_weight': ['balanced', 'balanced_subsample'],\n",
    "    'criterion': ['gini', 'entropy']\n",
    "}\n",
    "    \n",
    "#grid_search = GridSearchCV(RandomForestClassifier(), param_dist, cv=5, scoring='roc_auc')\n",
    "grid_search = GridSearchCV(ExtraTreesClassifier(), param_dist, cv=5, scoring='roc_auc')\n",
    "\n",
    "grid_search.fit(X_resampled, y_resampled)\n",
    "\n",
    "# Print the best hyperparameters and the corresponding score\n",
    "print(\"Best Hyperparameters:\", grid_search.best_params_)\n",
    "print(\"Best Cross_validated ROC AUC: {:.2f}\".format (grid_search.best_score_))\n",
    "print(grid_search.best_estimator_)"
   ]
  },
  {
   "cell_type": "markdown",
   "id": "6a9cdb70",
   "metadata": {},
   "source": [
    "#### Logistic Regression Hyperparameter Tuning"
   ]
  },
  {
   "cell_type": "code",
   "execution_count": 27,
   "id": "56a57715",
   "metadata": {},
   "outputs": [
    {
     "name": "stdout",
     "output_type": "stream",
     "text": [
      "Best Hyperparameters:  {'C': 0.5, 'class_weight': 'balanced', 'max_iter': 200, 'penalty': 'l1', 'solver': 'liblinear'}\n",
      "Best Cross-validated Accuracy: 0.83\n",
      "LogisticRegression(C=0.5, class_weight='balanced', max_iter=200, penalty='l1',\n",
      "                   solver='liblinear')\n"
     ]
    }
   ],
   "source": [
    "# Define the hyperparameter grid to search\n",
    "param_grid = {\n",
    "    'penalty': ['l1', 'l2'],\n",
    "    'C': [0.5, 1.0, 1.5],\n",
    "    'class_weight': ['balanced'],\n",
    "    'solver': ['liblinear'],\n",
    "    'max_iter': [200, 500, 1000]\n",
    "}\n",
    "\n",
    "grid_search = GridSearchCV(LogisticRegression(), param_grid, cv=5, scoring='roc_auc')\n",
    "grid_search.fit(X_resampled, y_resampled)\n",
    "\n",
    "# Print the best hyperparameters and the corresponding score\n",
    "print(\"Best Hyperparameters: \", grid_search.best_params_)\n",
    "print(\"Best Cross-validated ROC AUC: {:.2f}\".format(grid_search.best_score_))\n",
    "print(grid_search.best_estimator_)"
   ]
  },
  {
   "cell_type": "markdown",
   "id": "40c8cccc",
   "metadata": {},
   "source": [
    "####  AdaBoost Hyperparameter Tuning"
   ]
  },
  {
   "cell_type": "code",
   "execution_count": 44,
   "id": "d128f711",
   "metadata": {},
   "outputs": [
    {
     "name": "stdout",
     "output_type": "stream",
     "text": [
      "Best Hyperparameters:  {'base_estimator': LogisticRegression(), 'learning_rate': 0.1, 'n_estimators': 500}\n",
      "Best Cross-validated Accuracy: 0.82\n",
      "AdaBoostClassifier(base_estimator=LogisticRegression(), learning_rate=0.1,\n",
      "                   n_estimators=500)\n"
     ]
    }
   ],
   "source": [
    "# Define the hyperparameter grid to search\n",
    "param_grid = {\n",
    "    'n_estimators': [500, 1000],\n",
    "    'learning_rate': [0.1, 0.5, 1.0],\n",
    "    'base_estimator': [LogisticRegression()]\n",
    "}\n",
    "\n",
    "grid_search = GridSearchCV(AdaBoostClassifier(), param_grid, cv=5, scoring='roc_auc')\n",
    "grid_search.fit(X_resampled, y_resampled)\n",
    "\n",
    "# Print the best hyperparameters and the corresponding score\n",
    "print(\"Best Hyperparameters: \", grid_search.best_params_)\n",
    "print(\"Best Cross-validated ROC AUC: {:.2f}\".format(grid_search.best_score_))\n",
    "print(grid_search.best_estimator_)"
   ]
  },
  {
   "cell_type": "markdown",
   "id": "c08ef77a",
   "metadata": {},
   "source": [
    "### _Model Training, Fitting and Evaluating_"
   ]
  },
  {
   "cell_type": "markdown",
   "id": "fb2701cd",
   "metadata": {},
   "source": [
    "#### Model Training "
   ]
  },
  {
   "cell_type": "code",
   "execution_count": 7,
   "id": "59b2936e",
   "metadata": {},
   "outputs": [],
   "source": [
    "# STEP 1:  Define the classifier \n",
    "\n",
    "#clf = RandomForestClassifier()\n",
    "clf = RandomForestClassifier(class_weight='balanced_subsample', criterion='entropy', max_depth=10, max_features='log2', max_leaf_nodes=50, min_samples_split=5, n_estimators=500)\n",
    "#clf = ExtraTreesClassifier()\n",
    "#clf = ExtraTreesClassifier(class_weight='balanced', max_depth=30, max_features='log2', max_leaf_nodes=100, min_samples_split=5, n_estimators=500)\n",
    "#clf = LogisticRegression(max_iter=1000)\n",
    "#clf = LogisticRegression(C=0.5, class_weight='balanced', max_iter=200, penalty='l1', solver='liblinear')\n",
    "#clf = AdaBoostClassifier(base_estimator=LogisticRegression(class_weight='balanced'), learning_rate=0.1, n_estimators=500)\n",
    "\n",
    "# STEP 2:  Define model pipelines for preprocessing, feature selection and classifier\n",
    "\n",
    "# Imbalanced dataset; complete feature set\n",
    "#model = Pipeline([('pre', preprocessor), ('classifier', clf)])\n",
    "\n",
    "# Balanced dataset; complete feature set\n",
    "#model = Pipeline([('pre', preprocessor), ('smote', smote_enn), ('classifier', clf)])\n",
    "                 \n",
    "# Balanced dataset; feature selections using RF with SFM\n",
    "model = Pipeline([('pre',preprocessor), ('smote',smote_enn), ('fs',SelectFromModel(clf)), ('classifier',clf)])"
   ]
  },
  {
   "cell_type": "markdown",
   "id": "817ced57",
   "metadata": {},
   "source": [
    "#### Model Fitting and Evaluating"
   ]
  },
  {
   "cell_type": "code",
   "execution_count": 8,
   "id": "527c8a54",
   "metadata": {
    "scrolled": true
   },
   "outputs": [
    {
     "name": "stdout",
     "output_type": "stream",
     "text": [
      "Elaspsed time to cross_validate Model: 973.0 seconds\n",
      "\n",
      "Current memory usage: 0.776221 MB\n",
      "Peak memory usage: 1.010301 MB\n",
      "\n",
      "MCC: mean 0.520 sd 0.038\n",
      "F1 Score: mean 0.681 sd 0.026\n",
      "Accuracy: mean 0.781 sd 0.016\n",
      "Balanced Accuracy: mean 0.770 sd 0.021\n",
      "Recall: mean 0.737 sd 0.039\n",
      "Precision: mean 0.633 sd 0.021\n",
      "AUC-ROC: mean 0.777 sd 0.007\n"
     ]
    }
   ],
   "source": [
    "scoring_metrics = {\n",
    "    'mcc': make_scorer(matthews_corrcoef), \n",
    "    'f1_score': 'f1', \n",
    "    'accuracy': 'accuracy',\n",
    "    'balanced_accuracy': make_scorer(balanced_accuracy_score),\n",
    "    'recall': 'recall',\n",
    "    'precision': 'precision', \n",
    "    'ROC_AUC': 'roc_auc'}\n",
    "\n",
    "# Initialize a list to store model elvaluation scores\n",
    "mcc_scores = []\n",
    "f1_scores = []\n",
    "accuracy_scores = []\n",
    "balanced_accuracy_scores = []\n",
    "recall_scores = []\n",
    "precision_scores = []\n",
    "AUC_ROC_scores = []\n",
    "\n",
    "start_time = time()\n",
    "# Start tracing memory allocations\n",
    "tracemalloc.start()\n",
    "\n",
    "n=10\n",
    "k=10\n",
    "# Perform repeated stratified K-fold cross validation and obtain model evaluation scores\n",
    "rskf = RepeatedStratifiedKFold(n_repeats=n, n_splits=k, random_state=0)\n",
    "\n",
    "for i, (train_index, test_index) in enumerate(rskf.split(X, y)):\n",
    "    \n",
    "    model.fit(X_train, y_train)    \n",
    "  \n",
    "    y_pred = model.predict(X_test)\n",
    "    y_pred_prob=model.predict_proba(X_test)[:, 1] \n",
    "   \n",
    "    mcc = matthews_corrcoef(y_test, y_pred)\n",
    "    mcc_scores.append(mcc)\n",
    "    f1 = f1_score(y_test, y_pred)\n",
    "    f1_scores.append(f1)        \n",
    "    accuracy = accuracy_score(y_test, y_pred)\n",
    "    accuracy_scores.append(accuracy)\n",
    "    bal_accuracy = balanced_accuracy_score(y_test, y_pred)\n",
    "    balanced_accuracy_scores.append(bal_accuracy)\n",
    "    recall = recall_score(y_test, y_pred)\n",
    "    recall_scores.append(recall)   \n",
    "    precision = precision_score(y_test, y_pred)\n",
    "    precision_scores.append(precision)        \n",
    "    AUC_ROC = roc_auc_score(y_test,y_pred_prob)\n",
    "    AUC_ROC_scores.append(AUC_ROC)\n",
    "    \n",
    "elapsed_time = time() - start_time\n",
    "print(f\"Elaspsed time to cross_validate Model: {elapsed_time:.1f} seconds\\n\")\n",
    "# Stop tracing and print memory statistics\n",
    "current, peak = tracemalloc.get_traced_memory()\n",
    "print(f\"Current memory usage: {current / 10**6} MB\")\n",
    "print(f\"Peak memory usage: {peak / 10**6} MB\\n\")\n",
    "# Reset the trace\n",
    "tracemalloc.stop()\n",
    "\n",
    "# Calculate and print the model mean and sd, evaluation scores\n",
    "print('MCC: mean %.3f sd %.3f' % (mean(mcc_scores), stdev(mcc_scores)))\n",
    "print('F1 Score: mean %.3f sd %.3f' % (mean(f1_scores), stdev(f1_scores)))\n",
    "print('Accuracy: mean %.3f sd %.3f' % (mean(accuracy_scores), stdev(accuracy_scores)))\n",
    "print('Balanced Accuracy: mean %.3f sd %.3f' % (mean(balanced_accuracy_scores), stdev(balanced_accuracy_scores)))\n",
    "print('Recall: mean %.3f sd %.3f' % (mean(recall_scores), stdev(recall_scores)))\n",
    "print('Precision: mean %.3f sd %.3f' % (mean(precision_scores), stdev(precision_scores)))\n",
    "print('AUC-ROC: mean %.3f sd %.3f' % (mean(AUC_ROC_scores), stdev(AUC_ROC_scores)))"
   ]
  },
  {
   "cell_type": "markdown",
   "id": "7793b2a0",
   "metadata": {},
   "source": [
    "#### Permutation Feature Importances"
   ]
  },
  {
   "cell_type": "code",
   "execution_count": 9,
   "id": "55ed83ce",
   "metadata": {},
   "outputs": [
    {
     "name": "stdout",
     "output_type": "stream",
     "text": [
      "Ranked Permutation Feature Importances:\n",
      "serum_creatinine: 0.0750\n",
      "ejection_fraction: 0.0683\n",
      "age: 0.0550\n",
      "serum_sodium: 0.0100\n",
      "anaemia: 0.0000\n",
      "diabetes: 0.0000\n",
      "high_blood_pressure: 0.0000\n",
      "platelets: 0.0000\n",
      "sex: 0.0000\n",
      "smoking: 0.0000\n",
      "creatinine_phosphokinase: -0.0033\n"
     ]
    },
    {
     "data": {
      "image/png": "[encoded data removed]",
      "text/plain": [
       "<Figure size 432x288 with 1 Axes>"
      ]
     },
     "metadata": {
      "needs_background": "light"
     },
     "output_type": "display_data"
    }
   ],
   "source": [
    "# Feature Importance Ranking from Permutation Importance\n",
    "\n",
    "result = permutation_importance(model, X_test, y_test, n_repeats=10, random_state=0)\n",
    "feature_names = X_test.columns\n",
    "\n",
    "# Access the importances from the result\n",
    "feature_importances = result.importances_mean\n",
    "sorted_features = sorted(zip(X.columns, feature_importances), key=lambda x: x[1], reverse=True)\n",
    "\n",
    "# Print the Ranked Permutation Feature Importances\n",
    "print(\"Ranked Permutation Feature Importances:\")\n",
    "for feature, importance in sorted_features:\n",
    "        print(f\"{feature}: {importance:.4f}\")\n",
    "\n",
    "# Plot the Ranked Permutation Feature Importances\n",
    "result = permutation_importance(model, X_test, y_test, n_repeats=10, random_state=0, n_jobs=2)\n",
    "feature_names = X_test.columns\n",
    "model_importances = pd.Series(result.importances_mean, index=feature_names).sort_values(ascending=True)\n",
    "fix, ax = plt.subplots()\n",
    "model_importances.plot.bar(yerr=result.importances_std, ax=ax)\n",
    "ax.set_title(\"Feature importances using permutation of full model\")\n",
    "ax.set_ylabel(\"Mean accuracy decrease\")\n",
    "plt.figure\n",
    "plt.show()"
   ]
  },
  {
   "cell_type": "markdown",
   "id": "4424a091",
   "metadata": {},
   "source": [
    "#### Feature Importance for Tree Classifiers"
   ]
  },
  {
   "cell_type": "code",
   "execution_count": 10,
   "id": "9a2a9788",
   "metadata": {},
   "outputs": [
    {
     "data": {
      "image/png": "[encoded data removed]",
      "text/plain": [
       "<Figure size 432x288 with 1 Axes>"
      ]
     },
     "metadata": {
      "needs_background": "light"
     },
     "output_type": "display_data"
    },
    {
     "data": {
      "text/plain": [
       "<Figure size 216x144 with 0 Axes>"
      ]
     },
     "metadata": {},
     "output_type": "display_data"
    }
   ],
   "source": [
    "# Feature Importance Ranking from Mean Decrease in Impurity\n",
    "\n",
    "feature_names = model[:-1].get_feature_names_out()\n",
    "\n",
    "importances = model[-1].feature_importances_\n",
    "std = np.std([tree.feature_importances_ for tree in clf.estimators_], axis=0)\n",
    "\n",
    "model_importances = pd.Series(importances, index=feature_names).sort_values(ascending=True)\n",
    "fig, ax = plt.subplots()\n",
    "model_importances.plot.bar(yerr=std, ax=ax)\n",
    "ax.set_title(\"Feature importances using MDI\")\n",
    "ax.set_ylabel(\"Mean decrease in impurity\")\n",
    "figure(figsize=(3,2))\n",
    "plt.show()"
   ]
  },
  {
   "cell_type": "markdown",
   "id": "26e9eb68",
   "metadata": {},
   "source": [
    "### _Hypothesis Statistical Siginificance Testing_"
   ]
  },
  {
   "cell_type": "code",
   "execution_count": 15,
   "id": "eae57a1f",
   "metadata": {},
   "outputs": [
    {
     "name": "stdout",
     "output_type": "stream",
     "text": [
      "Shapiro-Wilk Test:\n",
      "Test Statistic: 0.9032098054885864\n",
      "P-value: 2.0076759028597735e-06\n",
      "Data does not look normally distributed (reject null hypothesis).\n"
     ]
    }
   ],
   "source": [
    "# Check for normalcy in the data using the Shapiro-Wilk test\n",
    "\n",
    "# Select one of the following measurment arrays\n",
    "#score_array = mcc_scores\n",
    "#score_array = f1_scores\n",
    "score_array = accuracy_scores\n",
    "#score_array = balanced_accuracy_scores\n",
    "#score_array = recall_scores\n",
    "#score_array = precision_scores\n",
    "#score_array = AUC_ROC_scores\n",
    "\n",
    "# Shapiro-Wilk test\n",
    "shapiro_test_statistic, shapiro_p_value = stats.shapiro(score_array)\n",
    "print(\"Shapiro-Wilk Test:\")\n",
    "print(f\"Test Statistic: {shapiro_test_statistic}\")\n",
    "print(f\"P-value: {shapiro_p_value}\")\n",
    "if shapiro_p_value > 0.05:\n",
    "    print(\"Data looks normally distributed (fail to reject null hypothesis).\")\n",
    "else:\n",
    "    print(\"Data does not look normally distributed (reject null hypothesis).\")"
   ]
  },
  {
   "cell_type": "code",
   "execution_count": 18,
   "id": "39c5e8d0",
   "metadata": {},
   "outputs": [
    {
     "name": "stdout",
     "output_type": "stream",
     "text": [
      "Wilcoxon statistic: 1804.0\n",
      "P-value: 0.0131527050854148\n",
      "The dataset is significantly different from the mean value.\n"
     ]
    }
   ],
   "source": [
    "# Perform the Wilcoxon signed-rank test for non-parametric data\n",
    "\n",
    "# Select one of the following measurment arrays\n",
    "#score_array = mcc_scores\n",
    "#score_array = f1_scores\n",
    "#score_array = accuracy_scores\n",
    "#score_array = balanced_accuracy_scores\n",
    "#score_array = recall_scores\n",
    "#score_array = precision_scores\n",
    "score_array = AUC_ROC_scores\n",
    "\n",
    "# Original study means\n",
    "orig_mean = 0.748  # Replace this with the actual average from original study\n",
    "\n",
    "# Perform the Wilcoxon signed-rank test\n",
    "differences = [x - orig_mean for x in score_array]\n",
    "statistic, p_value = wilcoxon(differences)\n",
    "print(f\"Wilcoxon statistic: {statistic}\")\n",
    "print(f\"P-value: {p_value}\")\n",
    "\n",
    "# Check the p-value to determine significance\n",
    "alpha = 0.05  # significance level\n",
    "if p_value < alpha:\n",
    "    print(\"The dataset is significantly different from the mean value.\")\n",
    "else:\n",
    "    print(\"The dataset is not significantly different from the mean value.\")"
   ]
  },
  {
   "cell_type": "markdown",
   "id": "76837291",
   "metadata": {},
   "source": [
    "### _Final Model Fitting and Evaluating_"
   ]
  },
  {
   "cell_type": "code",
   "execution_count": 11,
   "id": "4bba1605",
   "metadata": {},
   "outputs": [
    {
     "name": "stdout",
     "output_type": "stream",
     "text": [
      "<class 'pandas.core.frame.DataFrame'>\n",
      "RangeIndex: 299 entries, 0 to 298\n",
      "Data columns (total 6 columns):\n",
      " #   Column                    Non-Null Count  Dtype  \n",
      "---  ------                    --------------  -----  \n",
      " 0   serum_creatinine          299 non-null    float64\n",
      " 1   age                       299 non-null    int64  \n",
      " 2   ejection_fraction         299 non-null    int64  \n",
      " 3   serum_sodium              299 non-null    int64  \n",
      " 4   creatinine_phosphokinase  299 non-null    int64  \n",
      " 5   DEATH_EVENT               299 non-null    int64  \n",
      "dtypes: float64(1), int64(5)\n",
      "memory usage: 14.1 KB\n",
      "   serum_creatinine  age  ejection_fraction  serum_sodium  \\\n",
      "0               1.9   75                 20           130   \n",
      "1               1.1   55                 38           136   \n",
      "2               1.3   65                 20           129   \n",
      "3               1.9   50                 20           137   \n",
      "4               2.7   65                 20           116   \n",
      "\n",
      "   creatinine_phosphokinase  DEATH_EVENT  \n",
      "0                       582            1  \n",
      "1                      7861            1  \n",
      "2                       146            1  \n",
      "3                       111            1  \n",
      "4                       160            1  \n",
      "0    203\n",
      "1     96\n",
      "Name: DEATH_EVENT, dtype: int64\n",
      "Pipeline(steps=[('pre',\n",
      "                 ColumnTransformer(transformers=[('num', RobustScaler(),\n",
      "                                                  ['creatinine_phosphokinase',\n",
      "                                                   'ejection_fraction',\n",
      "                                                   'platelets',\n",
      "                                                   'serum_creatinine',\n",
      "                                                   'serum_sodium']),\n",
      "                                                 ('pass', 'passthrough',\n",
      "                                                  ['age', 'anaemia',\n",
      "                                                   'high_blood_pressure',\n",
      "                                                   'diabetes', 'sex',\n",
      "                                                   'smoking'])])),\n",
      "                ('smote',\n",
      "                 SMOTEENN(enn=EditedNearestNeighbours(kind_sel='mode'),\n",
      "                          random_state=0)),\n",
      "                ('fs',\n",
      "                 SelectFromModel(estimator=RandomForestClassifier(class_weight='balanced_subsample',\n",
      "                                                                  criterion='entropy',\n",
      "                                                                  max_depth=10,\n",
      "                                                                  max_features='log2',\n",
      "                                                                  max_leaf_nodes=50,\n",
      "                                                                  min_samples_split=5,\n",
      "                                                                  n_estimators=500))),\n",
      "                ('classifier',\n",
      "                 RandomForestClassifier(class_weight='balanced_subsample',\n",
      "                                        criterion='entropy', max_depth=10,\n",
      "                                        max_features='log2', max_leaf_nodes=50,\n",
      "                                        min_samples_split=5,\n",
      "                                        n_estimators=500))])\n",
      "MCC: 0.885\n",
      "F1 Score: 0.917\n",
      "Accuracy: 0.950\n",
      "Balanced Accuracy: 0.927\n",
      "Recall: 0.865\n",
      "Precision: 0.976\n",
      "AUC-ROC: 0.968\n"
     ]
    }
   ],
   "source": [
    "# Selected features from permutation feature importance\n",
    "sel_columns = ['serum_creatinine','age','ejection_fraction','serum_sodium','creatinine_phosphokinase','DEATH_EVENT']\n",
    "hf_sel = hf[sel_columns]\n",
    "hf_sel.info()\n",
    "print(hf_sel.head())\n",
    "\n",
    "# Fit selected features to final model\n",
    "X=hf.drop(\"DEATH_EVENT\",axis=1)\n",
    "y=hf[\"DEATH_EVENT\"]\n",
    "print(y.value_counts())\n",
    "\n",
    "model.fit(X,y)\n",
    "print(model)\n",
    "\n",
    "# Make predictions using selected features in final model and calculate evaluation scores\n",
    "y_pred = model.predict(X)\n",
    "y_pred_prob=model.predict_proba(X)[:, 1] \n",
    "   \n",
    "mcc = matthews_corrcoef(y, y_pred)\n",
    "f1 = f1_score(y, y_pred)      \n",
    "accuracy = accuracy_score(y, y_pred)\n",
    "bal_accuracy = balanced_accuracy_score(y, y_pred)\n",
    "recall = recall_score(y, y_pred)   \n",
    "precision = precision_score(y, y_pred)        \n",
    "AUC_ROC = roc_auc_score(y, y_pred_prob)\n",
    "\n",
    "# Print the final model evaluation scores\n",
    "print('MCC: %.3f' % (mcc))\n",
    "print('F1 Score: %.3f' % (f1))\n",
    "print('Accuracy: %.3f' % (accuracy))\n",
    "print('Balanced Accuracy: %.3f' % (bal_accuracy))\n",
    "print('Recall: %.3f' % (recall))\n",
    "print('Precision: %.3f' % (precision))\n",
    "print('AUC-ROC: %.3f' % (AUC_ROC))"
   ]
  }
 ],
 "metadata": {
  "kernelspec": {
   "display_name": "Python 3 (ipykernel)",
   "language": "python",
   "name": "python3"
  },
  "language_info": {
   "codemirror_mode": {
    "name": "ipython",
    "version": 3
   },
   "file_extension": ".py",
   "mimetype": "text/x-python",
   "name": "python",
   "nbconvert_exporter": "python",
   "pygments_lexer": "ipython3",
   "version": "3.9.12"
  }
 },
 "nbformat": 4,
 "nbformat_minor": 5
}
